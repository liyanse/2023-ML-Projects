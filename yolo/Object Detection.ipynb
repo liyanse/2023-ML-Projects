{
 "cells": [
  {
   "cell_type": "code",
   "execution_count": 1,
   "id": "a4de71bc",
   "metadata": {},
   "outputs": [
    {
     "name": "stdout",
     "output_type": "stream",
     "text": [
      "Collecting ultralytics\n",
      "  Using cached ultralytics-8.0.6-py3-none-any.whl (251 kB)\n",
      "Collecting opencv-python>=4.1.1\n",
      "  Using cached opencv_python-4.7.0.68-cp37-abi3-win_amd64.whl (38.2 MB)\n",
      "Collecting hydra-core>=1.2.0\n",
      "  Downloading hydra_core-1.3.1-py3-none-any.whl (154 kB)\n",
      "Requirement already satisfied: matplotlib>=3.2.2 in c:\\users\\lian.s\\anaconda3\\lib\\site-packages (from ultralytics) (3.4.3)\n",
      "Requirement already satisfied: pandas>=1.1.4 in c:\\users\\lian.s\\anaconda3\\lib\\site-packages (from ultralytics) (1.3.4)\n",
      "Requirement already satisfied: ipython in c:\\users\\lian.s\\anaconda3\\lib\\site-packages (from ultralytics) (7.29.0)\n",
      "Requirement already satisfied: requests>=2.23.0 in c:\\users\\lian.s\\anaconda3\\lib\\site-packages (from ultralytics) (2.26.0)\n",
      "Note: you may need to restart the kernel to use updated packages.Collecting thop>=0.1.1\n",
      "\n",
      "  Downloading thop-0.1.1.post2209072238-py3-none-any.whl (15 kB)\n",
      "Requirement already satisfied: numpy>=1.18.5 in c:\\users\\lian.s\\anaconda3\\lib\\site-packages (from ultralytics) (1.20.3)\n",
      "Requirement already satisfied: scipy>=1.4.1 in c:\\users\\lian.s\\anaconda3\\lib\\site-packages (from ultralytics) (1.7.1)\n",
      "Requirement already satisfied: PyYAML>=5.3.1 in c:\\users\\lian.s\\anaconda3\\lib\\site-packages (from ultralytics) (6.0)\n",
      "Requirement already satisfied: Pillow>=7.1.2 in c:\\users\\lian.s\\anaconda3\\lib\\site-packages (from ultralytics) (8.4.0)\n",
      "Collecting torchvision>=0.8.1\n",
      "  Using cached torchvision-0.14.1-cp39-cp39-win_amd64.whl (1.1 MB)\n",
      "Collecting tqdm>=4.64.0\n",
      "  Using cached tqdm-4.64.1-py2.py3-none-any.whl (78 kB)\n",
      "Collecting torch>=1.7.0\n"
     ]
    },
    {
     "name": "stderr",
     "output_type": "stream",
     "text": [
      "WARNING: Retrying (Retry(total=4, connect=None, read=None, redirect=None, status=None)) after connection broken by 'ProtocolError('Connection aborted.', ConnectionResetError(10054, 'An existing connection was forcibly closed by the remote host', None, 10054, None))': /simple/gitpython/\n"
     ]
    },
    {
     "name": "stdout",
     "output_type": "stream",
     "text": [
      "  Downloading torch-1.13.1-cp39-cp39-win_amd64.whl (162.5 MB)\n",
      "Collecting GitPython>=3.1.24\n",
      "  Using cached GitPython-3.1.30-py3-none-any.whl (184 kB)\n",
      "Requirement already satisfied: seaborn>=0.11.0 in c:\\users\\lian.s\\anaconda3\\lib\\site-packages (from ultralytics) (0.11.2)\n",
      "Requirement already satisfied: psutil in c:\\users\\lian.s\\anaconda3\\lib\\site-packages (from ultralytics) (5.8.0)\n",
      "Collecting tensorboard>=2.4.1\n",
      "  Downloading tensorboard-2.11.2-py3-none-any.whl (6.0 MB)\n",
      "Collecting gitdb<5,>=4.0.1\n",
      "  Downloading gitdb-4.0.10-py3-none-any.whl (62 kB)\n",
      "Collecting smmap<6,>=3.0.1\n",
      "  Downloading smmap-5.0.0-py3-none-any.whl (24 kB)\n",
      "Requirement already satisfied: packaging in c:\\users\\lian.s\\anaconda3\\lib\\site-packages (from hydra-core>=1.2.0->ultralytics) (21.0)\n",
      "Collecting omegaconf<2.4,>=2.2\n",
      "  Downloading omegaconf-2.3.0-py3-none-any.whl (79 kB)\n",
      "Collecting antlr4-python3-runtime==4.9.*\n",
      "  Downloading antlr4-python3-runtime-4.9.3.tar.gz (117 kB)\n",
      "Requirement already satisfied: python-dateutil>=2.7 in c:\\users\\lian.s\\anaconda3\\lib\\site-packages (from matplotlib>=3.2.2->ultralytics) (2.8.2)\n",
      "Requirement already satisfied: kiwisolver>=1.0.1 in c:\\users\\lian.s\\anaconda3\\lib\\site-packages (from matplotlib>=3.2.2->ultralytics) (1.3.1)\n",
      "Requirement already satisfied: pyparsing>=2.2.1 in c:\\users\\lian.s\\anaconda3\\lib\\site-packages (from matplotlib>=3.2.2->ultralytics) (3.0.4)\n",
      "Requirement already satisfied: cycler>=0.10 in c:\\users\\lian.s\\anaconda3\\lib\\site-packages (from matplotlib>=3.2.2->ultralytics) (0.10.0)\n",
      "Requirement already satisfied: six in c:\\users\\lian.s\\anaconda3\\lib\\site-packages (from cycler>=0.10->matplotlib>=3.2.2->ultralytics) (1.16.0)\n",
      "Requirement already satisfied: pytz>=2017.3 in c:\\users\\lian.s\\anaconda3\\lib\\site-packages (from pandas>=1.1.4->ultralytics) (2021.3)\n",
      "Requirement already satisfied: charset-normalizer~=2.0.0 in c:\\users\\lian.s\\anaconda3\\lib\\site-packages (from requests>=2.23.0->ultralytics) (2.0.4)\n",
      "Requirement already satisfied: idna<4,>=2.5 in c:\\users\\lian.s\\anaconda3\\lib\\site-packages (from requests>=2.23.0->ultralytics) (3.2)\n",
      "Requirement already satisfied: urllib3<1.27,>=1.21.1 in c:\\users\\lian.s\\anaconda3\\lib\\site-packages (from requests>=2.23.0->ultralytics) (1.26.7)\n",
      "Requirement already satisfied: certifi>=2017.4.17 in c:\\users\\lian.s\\anaconda3\\lib\\site-packages (from requests>=2.23.0->ultralytics) (2021.10.8)\n",
      "Collecting protobuf<4,>=3.9.2\n",
      "  Downloading protobuf-3.20.3-cp39-cp39-win_amd64.whl (904 kB)\n",
      "Collecting absl-py>=0.4\n",
      "  Downloading absl_py-1.4.0-py3-none-any.whl (126 kB)\n",
      "Collecting tensorboard-plugin-wit>=1.6.0\n",
      "  Downloading tensorboard_plugin_wit-1.8.1-py3-none-any.whl (781 kB)\n",
      "Collecting grpcio>=1.24.3\n",
      "  Downloading grpcio-1.51.1-cp39-cp39-win_amd64.whl (3.7 MB)\n",
      "Collecting google-auth-oauthlib<0.5,>=0.4.1\n",
      "  Downloading google_auth_oauthlib-0.4.6-py2.py3-none-any.whl (18 kB)\n",
      "Collecting tensorboard-data-server<0.7.0,>=0.6.0\n",
      "  Downloading tensorboard_data_server-0.6.1-py3-none-any.whl (2.4 kB)\n",
      "Requirement already satisfied: werkzeug>=1.0.1 in c:\\users\\lian.s\\anaconda3\\lib\\site-packages (from tensorboard>=2.4.1->ultralytics) (2.0.2)\n",
      "Requirement already satisfied: wheel>=0.26 in c:\\users\\lian.s\\anaconda3\\lib\\site-packages (from tensorboard>=2.4.1->ultralytics) (0.37.0)\n",
      "Requirement already satisfied: markdown>=2.6.8 in c:\\users\\lian.s\\anaconda3\\lib\\site-packages (from tensorboard>=2.4.1->ultralytics) (3.4.1)\n",
      "Requirement already satisfied: setuptools>=41.0.0 in c:\\users\\lian.s\\anaconda3\\lib\\site-packages (from tensorboard>=2.4.1->ultralytics) (58.0.4)\n",
      "Collecting google-auth<3,>=1.6.3\n",
      "  Using cached google_auth-2.16.0-py2.py3-none-any.whl (177 kB)\n",
      "Collecting pyasn1-modules>=0.2.1\n",
      "  Using cached pyasn1_modules-0.2.8-py2.py3-none-any.whl (155 kB)\n",
      "Collecting cachetools<6.0,>=2.0.0\n",
      "  Using cached cachetools-5.2.1-py3-none-any.whl (9.3 kB)\n",
      "Collecting rsa<5,>=3.1.4\n",
      "  Using cached rsa-4.9-py3-none-any.whl (34 kB)\n",
      "Collecting requests-oauthlib>=0.7.0\n",
      "  Downloading requests_oauthlib-1.3.1-py2.py3-none-any.whl (23 kB)\n",
      "Requirement already satisfied: importlib-metadata>=4.4 in c:\\users\\lian.s\\anaconda3\\lib\\site-packages (from markdown>=2.6.8->tensorboard>=2.4.1->ultralytics) (4.8.1)\n",
      "Requirement already satisfied: zipp>=0.5 in c:\\users\\lian.s\\anaconda3\\lib\\site-packages (from importlib-metadata>=4.4->markdown>=2.6.8->tensorboard>=2.4.1->ultralytics) (3.6.0)\n",
      "Collecting pyasn1<0.5.0,>=0.4.6\n",
      "  Using cached pyasn1-0.4.8-py2.py3-none-any.whl (77 kB)\n",
      "Collecting oauthlib>=3.0.0\n",
      "  Downloading oauthlib-3.2.2-py3-none-any.whl (151 kB)\n",
      "Requirement already satisfied: typing-extensions in c:\\users\\lian.s\\anaconda3\\lib\\site-packages (from torch>=1.7.0->ultralytics) (4.4.0)\n",
      "Requirement already satisfied: colorama in c:\\users\\lian.s\\anaconda3\\lib\\site-packages (from tqdm>=4.64.0->ultralytics) (0.4.4)\n",
      "Requirement already satisfied: backcall in c:\\users\\lian.s\\anaconda3\\lib\\site-packages (from ipython->ultralytics) (0.2.0)\n",
      "Requirement already satisfied: pygments in c:\\users\\lian.s\\anaconda3\\lib\\site-packages (from ipython->ultralytics) (2.10.0)\n",
      "Requirement already satisfied: jedi>=0.16 in c:\\users\\lian.s\\anaconda3\\lib\\site-packages (from ipython->ultralytics) (0.18.0)\n",
      "Requirement already satisfied: prompt-toolkit!=3.0.0,!=3.0.1,<3.1.0,>=2.0.0 in c:\\users\\lian.s\\anaconda3\\lib\\site-packages (from ipython->ultralytics) (3.0.20)\n",
      "Requirement already satisfied: matplotlib-inline in c:\\users\\lian.s\\anaconda3\\lib\\site-packages (from ipython->ultralytics) (0.1.2)\n",
      "Requirement already satisfied: pickleshare in c:\\users\\lian.s\\anaconda3\\lib\\site-packages (from ipython->ultralytics) (0.7.5)\n",
      "Requirement already satisfied: traitlets>=4.2 in c:\\users\\lian.s\\anaconda3\\lib\\site-packages (from ipython->ultralytics) (5.1.0)\n",
      "Requirement already satisfied: decorator in c:\\users\\lian.s\\anaconda3\\lib\\site-packages (from ipython->ultralytics) (5.1.0)\n",
      "Requirement already satisfied: parso<0.9.0,>=0.8.0 in c:\\users\\lian.s\\anaconda3\\lib\\site-packages (from jedi>=0.16->ipython->ultralytics) (0.8.2)\n",
      "Requirement already satisfied: wcwidth in c:\\users\\lian.s\\anaconda3\\lib\\site-packages (from prompt-toolkit!=3.0.0,!=3.0.1,<3.1.0,>=2.0.0->ipython->ultralytics) (0.2.5)\n",
      "Building wheels for collected packages: antlr4-python3-runtime\n",
      "  Building wheel for antlr4-python3-runtime (setup.py): started\n",
      "  Building wheel for antlr4-python3-runtime (setup.py): finished with status 'done'\n",
      "  Created wheel for antlr4-python3-runtime: filename=antlr4_python3_runtime-4.9.3-py3-none-any.whl size=144575 sha256=0f9be32925f7aaa013c0b0e581c870fb80e6ea91f42e0a91c9d9a27c7fe11699\n",
      "  Stored in directory: c:\\users\\lian.s\\appdata\\local\\pip\\cache\\wheels\\23\\cf\\80\\f3efa822e6ab23277902ee9165fe772eeb1dfb8014f359020a\n",
      "Successfully built antlr4-python3-runtime\n",
      "Installing collected packages: pyasn1, rsa, pyasn1-modules, oauthlib, cachetools, smmap, requests-oauthlib, google-auth, antlr4-python3-runtime, torch, tensorboard-plugin-wit, tensorboard-data-server, protobuf, omegaconf, grpcio, google-auth-oauthlib, gitdb, absl-py, tqdm, torchvision, thop, tensorboard, opencv-python, hydra-core, GitPython, ultralytics\n",
      "  Attempting uninstall: tqdm\n",
      "    Found existing installation: tqdm 4.62.3\n",
      "    Uninstalling tqdm-4.62.3:\n",
      "      Successfully uninstalled tqdm-4.62.3\n",
      "Successfully installed GitPython-3.1.30 absl-py-1.4.0 antlr4-python3-runtime-4.9.3 cachetools-5.2.1 gitdb-4.0.10 google-auth-2.16.0 google-auth-oauthlib-0.4.6 grpcio-1.51.1 hydra-core-1.3.1 oauthlib-3.2.2 omegaconf-2.3.0 opencv-python-4.7.0.68 protobuf-3.20.3 pyasn1-0.4.8 pyasn1-modules-0.2.8 requests-oauthlib-1.3.1 rsa-4.9 smmap-5.0.0 tensorboard-2.11.2 tensorboard-data-server-0.6.1 tensorboard-plugin-wit-1.8.1 thop-0.1.1.post2209072238 torch-1.13.1 torchvision-0.14.1 tqdm-4.64.1 ultralytics-8.0.6\n"
     ]
    }
   ],
   "source": [
    "pip install ultralytics"
   ]
  },
  {
   "cell_type": "code",
   "execution_count": null,
   "id": "34678a79",
   "metadata": {},
   "outputs": [],
   "source": [
    "yolo task=detect mode=predict model=yolov8n.pt source=\"https://ultralytics.com/images/bus.jpg\""
   ]
  },
  {
   "cell_type": "code",
   "execution_count": null,
   "id": "52f9c8bb",
   "metadata": {},
   "outputs": [],
   "source": [
    "from ultralytics import YOLO\n",
    "\n",
    "# Load a model\n",
    "##model = YOLO(\"yolov8n.yaml\")  # build a new model from scratch\n",
    "model = YOLO(\"yolov8n.pt\")  # load a pretrained model (recommended for training)\n",
    "\n",
    "# Use the model\n",
    "results = model.train(data=\"coco128.yaml\", epochs=3)  # train the model\n",
    "results = model.val()  # evaluate model performance on the validation set\n",
    "results = model(\"https://ultralytics.com/images/bus.jpg\")  # predict on an image\n",
    "success = model.export(format=\"onnx\")  # export the model to ONNX format"
   ]
  }
 ],
 "metadata": {
  "kernelspec": {
   "display_name": "Python 3 (ipykernel)",
   "language": "python",
   "name": "python3"
  },
  "language_info": {
   "codemirror_mode": {
    "name": "ipython",
    "version": 3
   },
   "file_extension": ".py",
   "mimetype": "text/x-python",
   "name": "python",
   "nbconvert_exporter": "python",
   "pygments_lexer": "ipython3",
   "version": "3.9.7"
  }
 },
 "nbformat": 4,
 "nbformat_minor": 5
}
