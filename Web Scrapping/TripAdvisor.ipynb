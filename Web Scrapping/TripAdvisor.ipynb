{
 "cells": [
  {
   "cell_type": "code",
   "execution_count": 1,
   "metadata": {},
   "outputs": [],
   "source": [
    "# Import the libraries.\n",
    "import requests\n",
    "from bs4 import BeautifulSoup\n",
    "import pandas as pd\n",
    "import csv\n",
    "\n",
    "# Extract the HTML and create a BeautifulSoup object.\n",
    "url = ('https://www.tripadvisor.com/Search?q=Diani&searchSessionId=A0EC068D4FA7E9A5B08AB31AC4C7E89B1679411505150ssid&searchNearby=false&sid=B0110070B2064EDE897CC0127498BDD51679411511184&blockRedirect=true&geo=1&ssrc=h&rf=1')\n",
    "\n",
    "user_agent = ({'User-Agent':\n",
    "\t\t\t'Mozilla/5.0 (Windows NT 10.0; Win64; x64) \\\n",
    "\t\t\tAppleWebKit/537.36 (KHTML, like Gecko) \\\n",
    "\t\t\tChrome/90.0.4430.212 Safari/537.36',\n",
    "\t\t\t'Accept-Language': 'en-US, en;q=0.5'})\n",
    "\n",
    "def get_page_contents(url):\n",
    "    page = requests.get(url, headers = user_agent)\n",
    "    return BeautifulSoup(page.text, 'html.parser')\n",
    "\n",
    "soup = get_page_contents(url)\n",
    "\n",
    "# Find and extract the data elements.\n",
    "hotels = []\n",
    "for name in soup.findAll('div',{'class':'listing_title'}):\n",
    "    hotels.append(name.text.strip())\n",
    "\n",
    "ratings = []\n",
    "for rating in soup.findAll('a',{'class':'ui_bubble_rating'}):\n",
    "    ratings.append(rating['alt'])  \n",
    "\n",
    "reviews = []\n",
    "for review in soup.findAll('a',{'class':'review_count'}):\n",
    "    reviews.append(review.text.strip())\n",
    "\n",
    "prices = []\n",
    "for p in soup.findAll('div',{'class':'price-wrap'}):\n",
    "    prices.append(p.text.replace('₹','').strip())  \n",
    "\n",
    "# Create the dictionary.\n",
    "dict = {'Hotel Names':hotels,'Ratings':ratings,'Number of Reviews':reviews,'Prices':prices}\n",
    "\n",
    "# Create the dataframe.\n",
    "hawaii = pd.DataFrame.from_dict(dict)\n",
    "hawaii.head(10)\n",
    "\n",
    "# Convert dataframe to CSV file.\n",
    "hawaii.to_csv('hotels.csv', index=False, header=True)"
   ]
  },
  {
   "cell_type": "code",
   "execution_count": null,
   "metadata": {},
   "outputs": [],
   "source": []
  }
 ],
 "metadata": {
  "kernelspec": {
   "display_name": "Python 3",
   "language": "python",
   "name": "python3"
  },
  "language_info": {
   "codemirror_mode": {
    "name": "ipython",
    "version": 3
   },
   "file_extension": ".py",
   "mimetype": "text/x-python",
   "name": "python",
   "nbconvert_exporter": "python",
   "pygments_lexer": "ipython3",
   "version": "3.11.2"
  },
  "orig_nbformat": 4
 },
 "nbformat": 4,
 "nbformat_minor": 2
}
