{
 "cells": [
  {
   "cell_type": "markdown",
   "id": "c701fd42",
   "metadata": {},
   "source": [
    "## Movies Website"
   ]
  },
  {
   "cell_type": "code",
   "execution_count": 1,
   "id": "60d21819",
   "metadata": {},
   "outputs": [
    {
     "name": "stdout",
     "output_type": "stream",
     "text": [
      "Rusty Blade (2022)\n",
      "Signal 100 (2019)\n",
      "My Brothers Dream Awake (2021)\n",
      "Driver Jamuna (2022)\n",
      "Karan Arjun (2022)\n",
      "The Parson's Widow (1920)\n",
      "The Magus of Messkirch: Martin Heidegger (1989)\n",
      "Betrayed by My Bridesmaid (2022)\n",
      "The Wages of Resistance: Narita Stories (2014)\n",
      "Bad Behind Bars: Jodi Arias (2023)\n",
      "New Year Baby (2006)\n",
      "Bezos (2023)\n",
      "The Business of Being Born (2008)\n",
      "Bunraku (2010)\n",
      "Rock Dog 3: Battle the Beat (2022)\n",
      "Sant Barbara (2012)\n",
      "Follow the River (1995)\n",
      "Sans peur et sans reproche (1988)\n",
      "The Hanging Sun (2022)\n",
      "Close Range Love (2014)\n",
      "A Lot of Nothing (2022)\n",
      "Les frères Pétard (1986)\n",
      "Mars One (2022)\n",
      "Kampen om Narvik - Hitlers første nederlag (2022)\n",
      "Love is the Word (2013)\n",
      "Die Schwarze Spinne (2022)\n",
      "Oglinda (1994)\n",
      "Mama's Affair (2022)\n",
      "Ezrah Mudag (2022)\n",
      "Return to Dust (2022)\n"
     ]
    }
   ],
   "source": [
    "import requests\n",
    "from bs4 import BeautifulSoup\n",
    "\n",
    "url = 'https://subslikescript.com/movies'\n",
    "response = requests.get(url)\n",
    "soup = BeautifulSoup(response.text, 'html.parser')\n",
    "\n",
    "ul_scripts_list = soup.find('ul', class_='scripts-list')\n",
    "\n",
    "for a in ul_scripts_list.find_all('a'):\n",
    "    print(a.text)"
   ]
  },
  {
   "cell_type": "markdown",
   "id": "ef339fc4",
   "metadata": {},
   "source": [
    "## AMAZON BOOKS"
   ]
  },
  {
   "cell_type": "code",
   "execution_count": 5,
   "id": "69221d08",
   "metadata": {},
   "outputs": [
    {
     "ename": "SyntaxError",
     "evalue": "EOL while scanning string literal (Temp/ipykernel_2884/4234471520.py, line 14)",
     "output_type": "error",
     "traceback": [
      "\u001b[1;36m  File \u001b[1;32m\"C:\\Users\\Lian.s\\AppData\\Local\\Temp/ipykernel_2884/4234471520.py\"\u001b[1;36m, line \u001b[1;32m14\u001b[0m\n\u001b[1;33m    elements = WebDriverWait(driver, 10).until(EC.presence_of_all_elements_located((By.XPATH, '//span[@class=\"a-size-base-plus a-color-base a-text-normal\u001b[0m\n\u001b[1;37m                                                                                                                                                         ^\u001b[0m\n\u001b[1;31mSyntaxError\u001b[0m\u001b[1;31m:\u001b[0m EOL while scanning string literal\n"
     ]
    }
   ],
   "source": [
    "from selenium import webdriver\n",
    "from selenium.webdriver.common.by import By\n",
    "from selenium.webdriver.support.ui import WebDriverWait\n",
    "from selenium.webdriver.support import expected_conditions as EC\n",
    "import time\n",
    "\n",
    "driver = webdriver.Chrome(r'C:\\Users\\Lian.s\\Downloads\\chromedriver')\n",
    "driver.get('https://www.amazon.com/s?k=self+help+books&crid=BA0SAIR4MDJW&sprefix=self+help+books%2Caps%2C331&ref=nb_sb_noss_1')\n",
    "\n",
    "#wait 5 seconds for the page to load\n",
    "time.sleep(5)\n",
    "\n",
    "#locate all the elements with the follwing xpath: \"span\" tag, \"class\" attribute name, and \"a-size-base-plus a-color-base a-text-normal\" attribute value\n",
    "elements = WebDriverWait(driver, 10).until(EC.presence_of_all_elements_located((By.XPATH, '//span[@class=\"a-size-base-plus a-color-base a-text-normal"
   ]
  },
  {
   "cell_type": "code",
   "execution_count": 8,
   "id": "7ae0ae70",
   "metadata": {},
   "outputs": [
    {
     "name": "stderr",
     "output_type": "stream",
     "text": [
      "C:\\Users\\Lian.s\\AppData\\Local\\Temp/ipykernel_2884/4201494708.py:4: DeprecationWarning: executable_path has been deprecated, please pass in a Service object\n",
      "  driver = webdriver.Chrome(r'C:\\Users\\Lian.s\\Downloads\\chromedriver')\n"
     ]
    },
    {
     "ename": "AttributeError",
     "evalue": "'WebDriver' object has no attribute 'find_elements_by_xpath'",
     "output_type": "error",
     "traceback": [
      "\u001b[1;31m---------------------------------------------------------------------------\u001b[0m",
      "\u001b[1;31mAttributeError\u001b[0m                            Traceback (most recent call last)",
      "\u001b[1;32m~\\AppData\\Local\\Temp/ipykernel_2884/4201494708.py\u001b[0m in \u001b[0;36m<module>\u001b[1;34m\u001b[0m\n\u001b[0;32m      7\u001b[0m \u001b[0mtime\u001b[0m\u001b[1;33m.\u001b[0m\u001b[0msleep\u001b[0m\u001b[1;33m(\u001b[0m\u001b[1;36m5\u001b[0m\u001b[1;33m)\u001b[0m\u001b[1;33m\u001b[0m\u001b[1;33m\u001b[0m\u001b[0m\n\u001b[0;32m      8\u001b[0m \u001b[1;33m\u001b[0m\u001b[0m\n\u001b[1;32m----> 9\u001b[1;33m \u001b[0melements\u001b[0m \u001b[1;33m=\u001b[0m \u001b[0mdriver\u001b[0m\u001b[1;33m.\u001b[0m\u001b[0mfind_elements_by_xpath\u001b[0m\u001b[1;33m(\u001b[0m\u001b[1;34m\"//span[@class='a-size-base-plus a-color-base a-text-normal']\"\u001b[0m\u001b[1;33m)\u001b[0m\u001b[1;33m\u001b[0m\u001b[1;33m\u001b[0m\u001b[0m\n\u001b[0m\u001b[0;32m     10\u001b[0m \u001b[1;33m\u001b[0m\u001b[0m\n\u001b[0;32m     11\u001b[0m \u001b[1;32mfor\u001b[0m \u001b[0melement\u001b[0m \u001b[1;32min\u001b[0m \u001b[0melements\u001b[0m\u001b[1;33m:\u001b[0m\u001b[1;33m\u001b[0m\u001b[1;33m\u001b[0m\u001b[0m\n",
      "\u001b[1;31mAttributeError\u001b[0m: 'WebDriver' object has no attribute 'find_elements_by_xpath'"
     ]
    }
   ],
   "source": [
    "from selenium import webdriver\n",
    "import time\n",
    "\n",
    "driver = webdriver.Chrome(r'C:\\Users\\Lian.s\\Downloads\\chromedriver')\n",
    "driver.get('https://www.amazon.com/s?k=self+help+books&crid=BA0SAIR4MDJW&sprefix=self+help+books%2Caps%2C331&ref=nb_sb_noss_1')\n",
    "\n",
    "time.sleep(5)\n",
    "\n",
    "elements = driver.find_elements_by_xpath(\"//span[@class='a-size-base-plus a-color-base a-text-normal']\")\n",
    "\n",
    "for element in elements:\n",
    "    print(element.text)"
   ]
  },
  {
   "cell_type": "code",
   "execution_count": null,
   "id": "4f4d47e4",
   "metadata": {},
   "outputs": [],
   "source": []
  }
 ],
 "metadata": {
  "kernelspec": {
   "display_name": "Python 3 (ipykernel)",
   "language": "python",
   "name": "python3"
  },
  "language_info": {
   "codemirror_mode": {
    "name": "ipython",
    "version": 3
   },
   "file_extension": ".py",
   "mimetype": "text/x-python",
   "name": "python",
   "nbconvert_exporter": "python",
   "pygments_lexer": "ipython3",
   "version": "3.9.7"
  }
 },
 "nbformat": 4,
 "nbformat_minor": 5
}
