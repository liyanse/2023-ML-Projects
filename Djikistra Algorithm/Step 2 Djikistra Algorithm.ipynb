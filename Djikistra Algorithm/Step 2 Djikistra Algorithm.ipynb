{
 "cells": [
  {
   "cell_type": "code",
   "execution_count": 1,
   "id": "41dbbc9e",
   "metadata": {},
   "outputs": [
    {
     "name": "stdout",
     "output_type": "stream",
     "text": [
      "Distance of  a  from source vertex:  0\n",
      "Distance of  b  from source vertex:  3\n",
      "Distance of  c  from source vertex:  1\n",
      "Distance of  d  from source vertex:  2\n",
      "Distance of  e  from source vertex:  4\n",
      "Distance of  f  from source vertex:  4\n",
      "Distance of  g  from source vertex:  3\n"
     ]
    }
   ],
   "source": [
    "# Dijkstra's Algorithm in Python\n",
    "\n",
    "\n",
    "import sys\n",
    "\n",
    "# Providing the graph\n",
    "vertices = [[0, 0, 1, 1, 0, 0, 0],\n",
    "            [0, 0, 1, 0, 0, 1, 0],\n",
    "            [1, 1, 0, 1, 1, 0, 0],\n",
    "            [1, 0, 1, 0, 0, 0, 1],\n",
    "            [0, 0, 1, 0, 0, 1, 0],\n",
    "            [0, 1, 0, 0, 1, 0, 1],\n",
    "            [0, 0, 0, 1, 0, 1, 0]]\n",
    "\n",
    "edges = [[0, 0, 1, 2, 0, 0, 0],\n",
    "         [0, 0, 2, 0, 0, 3, 0],\n",
    "         [1, 2, 0, 1, 3, 0, 0],\n",
    "         [2, 0, 1, 0, 0, 0, 1],\n",
    "         [0, 0, 3, 0, 0, 2, 0],\n",
    "         [0, 3, 0, 0, 2, 0, 1],\n",
    "         [0, 0, 0, 1, 0, 1, 0]]\n",
    "\n",
    "# Find which vertex is to be visited next\n",
    "def to_be_visited():\n",
    "    global visited_and_distance\n",
    "    v = -10\n",
    "    for index in range(num_of_vertices):\n",
    "        if visited_and_distance[index][0] == 0 \\\n",
    "            and (v < 0 or visited_and_distance[index][1] <=\n",
    "                 visited_and_distance[v][1]):\n",
    "            v = index\n",
    "    return v\n",
    "\n",
    "\n",
    "num_of_vertices = len(vertices[0])\n",
    "\n",
    "visited_and_distance = [[0, 0]]\n",
    "for i in range(num_of_vertices-1):\n",
    "    visited_and_distance.append([0, sys.maxsize])\n",
    "\n",
    "for vertex in range(num_of_vertices):\n",
    "\n",
    "    # Find next vertex to be visited\n",
    "    to_visit = to_be_visited()\n",
    "    for neighbor_index in range(num_of_vertices):\n",
    "\n",
    "        # Updating new distances\n",
    "        if vertices[to_visit][neighbor_index] == 1 and \\\n",
    "                visited_and_distance[neighbor_index][0] == 0:\n",
    "            new_distance = visited_and_distance[to_visit][1] \\\n",
    "                + edges[to_visit][neighbor_index]\n",
    "            if visited_and_distance[neighbor_index][1] > new_distance:\n",
    "                visited_and_distance[neighbor_index][1] = new_distance\n",
    "        \n",
    "        visited_and_distance[to_visit][0] = 1\n",
    "\n",
    "i = 0\n",
    "\n",
    "# Printing the distance\n",
    "for distance in visited_and_distance:\n",
    "    print(\"Distance of \", chr(ord('a') + i),\n",
    "          \" from source vertex: \", distance[1])\n",
    "    i = i + 1"
   ]
  },
  {
   "cell_type": "code",
   "execution_count": null,
   "id": "72ddc1aa",
   "metadata": {},
   "outputs": [],
   "source": []
  },
  {
   "cell_type": "code",
   "execution_count": null,
   "id": "0bc430d7",
   "metadata": {},
   "outputs": [],
   "source": []
  }
 ],
 "metadata": {
  "kernelspec": {
   "display_name": "Python 3 (ipykernel)",
   "language": "python",
   "name": "python3"
  },
  "language_info": {
   "codemirror_mode": {
    "name": "ipython",
    "version": 3
   },
   "file_extension": ".py",
   "mimetype": "text/x-python",
   "name": "python",
   "nbconvert_exporter": "python",
   "pygments_lexer": "ipython3",
   "version": "3.9.7"
  }
 },
 "nbformat": 4,
 "nbformat_minor": 5
}
