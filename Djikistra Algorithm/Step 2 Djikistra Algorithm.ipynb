{
 "cells": [
  {
   "cell_type": "code",
   "execution_count": 3,
   "id": "b4efc174",
   "metadata": {},
   "outputs": [
    {
     "ename": "NameError",
     "evalue": "name 'deque' is not defined",
     "output_type": "error",
     "traceback": [
      "\u001b[1;31m---------------------------------------------------------------------------\u001b[0m",
      "\u001b[1;31mNameError\u001b[0m                                 Traceback (most recent call last)",
      "\u001b[1;32m~\\AppData\\Local\\Temp/ipykernel_1544/1909993815.py\u001b[0m in \u001b[0;36m<module>\u001b[1;34m\u001b[0m\n\u001b[0;32m     38\u001b[0m \u001b[0mend\u001b[0m \u001b[1;33m=\u001b[0m \u001b[1;34m'e'\u001b[0m\u001b[1;33m\u001b[0m\u001b[1;33m\u001b[0m\u001b[0m\n\u001b[0;32m     39\u001b[0m \u001b[1;33m\u001b[0m\u001b[0m\n\u001b[1;32m---> 40\u001b[1;33m \u001b[0mshortest_path\u001b[0m \u001b[1;33m=\u001b[0m \u001b[0mdijkstra\u001b[0m\u001b[1;33m(\u001b[0m\u001b[0mgraph\u001b[0m\u001b[1;33m,\u001b[0m \u001b[0mstart\u001b[0m\u001b[1;33m,\u001b[0m \u001b[0mend\u001b[0m\u001b[1;33m)\u001b[0m\u001b[1;33m\u001b[0m\u001b[1;33m\u001b[0m\u001b[0m\n\u001b[0m\u001b[0;32m     41\u001b[0m \u001b[0mprint\u001b[0m\u001b[1;33m(\u001b[0m\u001b[0mshortest_path\u001b[0m\u001b[1;33m)\u001b[0m  \u001b[1;31m# ['a', 'c', 'd', 'e']\u001b[0m\u001b[1;33m\u001b[0m\u001b[1;33m\u001b[0m\u001b[0m\n\u001b[0;32m     42\u001b[0m \u001b[1;33m\u001b[0m\u001b[0m\n",
      "\u001b[1;32m~\\AppData\\Local\\Temp/ipykernel_1544/1909993815.py\u001b[0m in \u001b[0;36mdijkstra\u001b[1;34m(graph, start, end)\u001b[0m\n\u001b[0;32m     19\u001b[0m         \u001b[0mprevious_vertices\u001b[0m\u001b[1;33m[\u001b[0m\u001b[0mneighbor\u001b[0m\u001b[1;33m]\u001b[0m \u001b[1;33m=\u001b[0m \u001b[0mcurrent_vertex\u001b[0m\u001b[1;33m\u001b[0m\u001b[1;33m\u001b[0m\u001b[0m\n\u001b[0;32m     20\u001b[0m \u001b[1;33m\u001b[0m\u001b[0m\n\u001b[1;32m---> 21\u001b[1;33m   \u001b[0mpath\u001b[0m\u001b[1;33m,\u001b[0m \u001b[0mcurrent_vertex\u001b[0m \u001b[1;33m=\u001b[0m \u001b[0mdeque\u001b[0m\u001b[1;33m(\u001b[0m\u001b[1;33m)\u001b[0m\u001b[1;33m,\u001b[0m \u001b[0mend\u001b[0m\u001b[1;33m\u001b[0m\u001b[1;33m\u001b[0m\u001b[0m\n\u001b[0m\u001b[0;32m     22\u001b[0m   \u001b[1;32mwhile\u001b[0m \u001b[0mprevious_vertices\u001b[0m\u001b[1;33m[\u001b[0m\u001b[0mcurrent_vertex\u001b[0m\u001b[1;33m]\u001b[0m \u001b[1;32mis\u001b[0m \u001b[1;32mnot\u001b[0m \u001b[1;32mNone\u001b[0m\u001b[1;33m:\u001b[0m\u001b[1;33m\u001b[0m\u001b[1;33m\u001b[0m\u001b[0m\n\u001b[0;32m     23\u001b[0m     \u001b[0mpath\u001b[0m\u001b[1;33m.\u001b[0m\u001b[0mappendleft\u001b[0m\u001b[1;33m(\u001b[0m\u001b[0mcurrent_vertex\u001b[0m\u001b[1;33m)\u001b[0m\u001b[1;33m\u001b[0m\u001b[1;33m\u001b[0m\u001b[0m\n",
      "\u001b[1;31mNameError\u001b[0m: name 'deque' is not defined"
     ]
    }
   ],
   "source": [
    "# Dijkstra's Algorithm in Python\n",
    "\n",
    "\n",
    "import sys\n",
    "\n",
    "# Providing the graph\n",
    "vertices = [[0, 0, 1, 1, 0, 0, 0],\n",
    "            [0, 0, 1, 0, 0, 1, 0],\n",
    "            [1, 1, 0, 1, 1, 0, 0],\n",
    "            [1, 0, 1, 0, 0, 0, 1],\n",
    "            [0, 0, 1, 0, 0, 1, 0],\n",
    "            [0, 1, 0, 0, 1, 0, 1],\n",
    "            [0, 0, 0, 1, 0, 1, 0]]\n",
    "\n",
    "edges = [[0, 0, 1, 2, 0, 0, 0],\n",
    "         [0, 0, 2, 0, 0, 3, 0],\n",
    "         [1, 2, 0, 1, 3, 0, 0],\n",
    "         [2, 0, 1, 0, 0, 0, 1],\n",
    "         [0, 0, 3, 0, 0, 2, 0],\n",
    "         [0, 3, 0, 0, 2, 0, 1],\n",
    "         [0, 0, 0, 1, 0, 1, 0]]\n",
    "\n",
    "# Find which vertex is to be visited next\n",
    "def to_be_visited():\n",
    "    global visited_and_distance\n",
    "    v = -10\n",
    "    for index in range(num_of_vertices):\n",
    "        if visited_and_distance[index][0] == 0 \\\n",
    "            and (v < 0 or visited_and_distance[index][1] <=\n",
    "                 visited_and_distance[v][1]):\n",
    "            v = index\n",
    "    return v\n",
    "\n",
    "\n",
    "num_of_vertices = len(vertices[0])\n",
    "\n",
    "visited_and_distance = [[0, 0]]\n",
    "for i in range(num_of_vertices-1):\n",
    "    visited_and_distance.append([0, sys.maxsize])\n",
    "\n",
    "for vertex in range(num_of_vertices):\n",
    "\n",
    "    # Find next vertex to be visited\n",
    "    to_visit = to_be_visited()\n",
    "    for neighbor_index in range(num_of_vertices):\n",
    "\n",
    "        # Updating new distances\n",
    "        if vertices[to_visit][neighbor_index] == 1 and \\\n",
    "                visited_and_distance[neighbor_index][0] == 0:\n",
    "            new_distance = visited_and_distance[to_visit][1] \\\n",
    "                + edges[to_visit][neighbor_index]\n",
    "            if visited_and_distance[neighbor_index][1] > new_distance:\n",
    "                visited_and_distance[neighbor_index][1] = new_distance\n",
    "        \n",
    "        visited_and_distance[to_visit][0] = 1\n",
    "\n",
    "i = 0\n",
    "\n",
    "# Printing the distance\n",
    "for distance in visited_and_distance:\n",
    "    print(\"Distance of \", chr(ord('a') + i),\n",
    "          \" from source vertex: \", distance[1])\n",
    "    i = i + 1"
   ]
  },
  {
   "cell_type": "code",
   "execution_count": 2,
   "id": "c880901b",
   "metadata": {},
   "outputs": [
    {
     "ename": "NameError",
     "evalue": "name 'deque' is not defined",
     "output_type": "error",
     "traceback": [
      "\u001b[1;31m---------------------------------------------------------------------------\u001b[0m",
      "\u001b[1;31mNameError\u001b[0m                                 Traceback (most recent call last)",
      "\u001b[1;32m~\\AppData\\Local\\Temp/ipykernel_1544/3676738024.py\u001b[0m in \u001b[0;36m<module>\u001b[1;34m\u001b[0m\n\u001b[0;32m     10\u001b[0m \u001b[0mend\u001b[0m \u001b[1;33m=\u001b[0m \u001b[1;34m'e'\u001b[0m\u001b[1;33m\u001b[0m\u001b[1;33m\u001b[0m\u001b[0m\n\u001b[0;32m     11\u001b[0m \u001b[1;33m\u001b[0m\u001b[0m\n\u001b[1;32m---> 12\u001b[1;33m \u001b[0mshortest_path\u001b[0m \u001b[1;33m=\u001b[0m \u001b[0mdijkstra\u001b[0m\u001b[1;33m(\u001b[0m\u001b[0mgraph\u001b[0m\u001b[1;33m,\u001b[0m \u001b[0mstart\u001b[0m\u001b[1;33m,\u001b[0m \u001b[0mend\u001b[0m\u001b[1;33m)\u001b[0m\u001b[1;33m\u001b[0m\u001b[1;33m\u001b[0m\u001b[0m\n\u001b[0m\u001b[0;32m     13\u001b[0m \u001b[0mprint\u001b[0m\u001b[1;33m(\u001b[0m\u001b[0mshortest_path\u001b[0m\u001b[1;33m)\u001b[0m  \u001b[1;31m# ['a', 'c', 'd', 'e']\u001b[0m\u001b[1;33m\u001b[0m\u001b[1;33m\u001b[0m\u001b[0m\n",
      "\u001b[1;32m~\\AppData\\Local\\Temp/ipykernel_1544/2872198430.py\u001b[0m in \u001b[0;36mdijkstra\u001b[1;34m(graph, start, end)\u001b[0m\n\u001b[0;32m     19\u001b[0m         \u001b[0mprevious_vertices\u001b[0m\u001b[1;33m[\u001b[0m\u001b[0mneighbor\u001b[0m\u001b[1;33m]\u001b[0m \u001b[1;33m=\u001b[0m \u001b[0mcurrent_vertex\u001b[0m\u001b[1;33m\u001b[0m\u001b[1;33m\u001b[0m\u001b[0m\n\u001b[0;32m     20\u001b[0m \u001b[1;33m\u001b[0m\u001b[0m\n\u001b[1;32m---> 21\u001b[1;33m   \u001b[0mpath\u001b[0m\u001b[1;33m,\u001b[0m \u001b[0mcurrent_vertex\u001b[0m \u001b[1;33m=\u001b[0m \u001b[0mdeque\u001b[0m\u001b[1;33m(\u001b[0m\u001b[1;33m)\u001b[0m\u001b[1;33m,\u001b[0m \u001b[0mend\u001b[0m\u001b[1;33m\u001b[0m\u001b[1;33m\u001b[0m\u001b[0m\n\u001b[0m\u001b[0;32m     22\u001b[0m   \u001b[1;32mwhile\u001b[0m \u001b[0mprevious_vertices\u001b[0m\u001b[1;33m[\u001b[0m\u001b[0mcurrent_vertex\u001b[0m\u001b[1;33m]\u001b[0m \u001b[1;32mis\u001b[0m \u001b[1;32mnot\u001b[0m \u001b[1;32mNone\u001b[0m\u001b[1;33m:\u001b[0m\u001b[1;33m\u001b[0m\u001b[1;33m\u001b[0m\u001b[0m\n\u001b[0;32m     23\u001b[0m     \u001b[0mpath\u001b[0m\u001b[1;33m.\u001b[0m\u001b[0mappendleft\u001b[0m\u001b[1;33m(\u001b[0m\u001b[0mcurrent_vertex\u001b[0m\u001b[1;33m)\u001b[0m\u001b[1;33m\u001b[0m\u001b[1;33m\u001b[0m\u001b[0m\n",
      "\u001b[1;31mNameError\u001b[0m: name 'deque' is not defined"
     ]
    }
   ],
   "source": [
    "graph = {\n",
    "  'a': {'b': 2, 'c': 1},\n",
    "  'b': {'a': 2, 'd': 3, 'e': 2},\n",
    "  'c': {'a': 1, 'd': 1},\n",
    "  'd': {'b': 3, 'c': 1, 'e': 1},\n",
    "  'e': {'b': 2, 'd': 1}\n",
    "}\n",
    "\n",
    "start = 'a'\n",
    "end = 'e'\n",
    "\n",
    "shortest_path = dijkstra(graph, start, end)\n",
    "print(shortest_path)  # ['a', 'c', 'd', 'e']\n"
   ]
  },
  {
   "cell_type": "code",
   "execution_count": null,
   "id": "ed99058d",
   "metadata": {},
   "outputs": [],
   "source": []
  }
 ],
 "metadata": {
  "kernelspec": {
   "display_name": "Python 3 (ipykernel)",
   "language": "python",
   "name": "python3"
  },
  "language_info": {
   "codemirror_mode": {
    "name": "ipython",
    "version": 3
   },
   "file_extension": ".py",
   "mimetype": "text/x-python",
   "name": "python",
   "nbconvert_exporter": "python",
   "pygments_lexer": "ipython3",
   "version": "3.9.7"
  }
 },
 "nbformat": 4,
 "nbformat_minor": 5
}
