{
 "cells": [
  {
   "cell_type": "code",
   "execution_count": 2,
   "id": "b9433030",
   "metadata": {},
   "outputs": [],
   "source": [
    "import sys\n",
    "from heapq import heapify,heappush, heappop"
   ]
  },
  {
   "cell_type": "code",
   "execution_count": null,
   "id": "dbb8c84e",
   "metadata": {},
   "outputs": [],
   "source": [
    "def dijsktra(graph, src,dest):\n",
    "    \n",
    "    if __name__ = \"__main__\":\n",
    "        graph = {\n",
    "            'A':{'B':2,'C':4},\n",
    "            'B':{'A':2,'C':3,'D':8},\n",
    "            'C':{'A':4,'B':3,'E':5,'D':2},\n",
    "            'D':{'B':8,'C':2,'E':11,'F':22},\n",
    "            'E':{'C':5,'D':11,'F':1},\n",
    "            'F':{'D':22,'E':1}\n",
    "                  }\n",
    "        source = 'A'\n",
    "        destination = 'F'\n",
    "        dijsktra(graph, source, destination)"
   ]
  }
 ],
 "metadata": {
  "kernelspec": {
   "display_name": "Python 3 (ipykernel)",
   "language": "python",
   "name": "python3"
  },
  "language_info": {
   "codemirror_mode": {
    "name": "ipython",
    "version": 3
   },
   "file_extension": ".py",
   "mimetype": "text/x-python",
   "name": "python",
   "nbconvert_exporter": "python",
   "pygments_lexer": "ipython3",
   "version": "3.9.7"
  }
 },
 "nbformat": 4,
 "nbformat_minor": 5
}
