{
 "cells": [
  {
   "cell_type": "code",
   "execution_count": 9,
   "id": "0d561fdc",
   "metadata": {},
   "outputs": [
    {
     "name": "stderr",
     "output_type": "stream",
     "text": [
      "C:\\Users\\Lian.s\\AppData\\Local\\Temp/ipykernel_7928/3868110017.py:7: DeprecationWarning: executable_path has been deprecated, please pass in a Service object\n",
      "  driver = webdriver.Chrome(executable_path=r\"C:\\Users\\Lian.s\\Downloads\\chromedriver\")\n"
     ]
    },
    {
     "name": "stdout",
     "output_type": "stream",
     "text": [
      "Wife > ChatGPT\n",
      "\n",
      "Always!!\n",
      "Chat GPT is actually human \n"
     ]
    }
   ],
   "source": [
    "from selenium import webdriver\n",
    "from selenium.webdriver.common.by import By\n",
    "from selenium.webdriver.support.ui import WebDriverWait\n",
    "from selenium.webdriver.support import expected_conditions as EC\n",
    "\n",
    "\n",
    "driver = webdriver.Chrome(executable_path=r\"C:\\Users\\Lian.s\\Downloads\\chromedriver\")\n",
    "driver.get(\"https://twitter.com/search?q=chatgpt&src=typed_query\")\n",
    "driver.maximize_window()\n",
    "\n",
    "# wait up to 15 seconds for all elements with path \"div\" tag, attrubute name \"lang\" to be visible\n",
    "wait = WebDriverWait(driver, 15)\n",
    "\n",
    "# Scroll down 20 tweets\n",
    "#driver.execute_script(\"window.scrollBy(0, 20);\")\n",
    "\n",
    "lang_elements = wait.until(EC.visibility_of_all_elements_located((By.XPATH, \"//div[@lang]\")))\n",
    "\n",
    "# print the text inside the elements\n",
    "for element in lang_elements:\n",
    "    print(element.text)\n",
    "\n",
    "driver.quit()"
   ]
  },
  {
   "cell_type": "code",
   "execution_count": null,
   "id": "7a202dac",
   "metadata": {},
   "outputs": [
    {
     "name": "stderr",
     "output_type": "stream",
     "text": [
      "C:\\Users\\Lian.s\\AppData\\Local\\Temp/ipykernel_7928/1136487163.py:7: DeprecationWarning: executable_path has been deprecated, please pass in a Service object\n",
      "  driver = webdriver.Chrome(executable_path=r\"C:\\Users\\Lian.s\\Downloads\\chromedriver\")\n"
     ]
    }
   ],
   "source": [
    "from selenium import webdriver\n",
    "from selenium.webdriver.common.by import By\n",
    "from selenium.webdriver.support.ui import WebDriverWait\n",
    "from selenium.webdriver.support import expected_conditions as EC\n",
    "\n",
    "\n",
    "driver = webdriver.Chrome(executable_path=r\"C:\\Users\\Lian.s\\Downloads\\chromedriver\")\n",
    "driver.get(\"https://twitter.com/search?q=chatgpt&src=typed_query\")\n",
    "driver.maximize_window()\n",
    "\n",
    "# wait up to 15 seconds for all elements with path \"div\" tag, attrubute name \"lang\" to be visible\n",
    "wait = WebDriverWait(driver, 15)\n",
    "\n",
    "lang_elements = wait.until(EC.visibility_of_all_elements_located((By.XPATH, \"//div[@lang]\")))\n",
    "\n",
    "# Scroll down 20 tweets\n",
    "for i in range(20):\n",
    "    driver.execute_script(\"window.scrollBy(0, 1000);\")\n",
    "    time.sleep(1)\n",
    "\n",
    "# Print the text inside these elements\n",
    "for element in lang_elements:\n",
    "    print(element.text)"
   ]
  },
  {
   "cell_type": "code",
   "execution_count": null,
   "id": "363d5172",
   "metadata": {},
   "outputs": [],
   "source": []
  }
 ],
 "metadata": {
  "kernelspec": {
   "display_name": "Python 3 (ipykernel)",
   "language": "python",
   "name": "python3"
  },
  "language_info": {
   "codemirror_mode": {
    "name": "ipython",
    "version": 3
   },
   "file_extension": ".py",
   "mimetype": "text/x-python",
   "name": "python",
   "nbconvert_exporter": "python",
   "pygments_lexer": "ipython3",
   "version": "3.9.7"
  }
 },
 "nbformat": 4,
 "nbformat_minor": 5
}
