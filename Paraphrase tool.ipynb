{
 "cells": [
  {
   "cell_type": "code",
   "execution_count": 5,
   "id": "e40d683c",
   "metadata": {},
   "outputs": [
    {
     "name": "stderr",
     "output_type": "stream",
     "text": [
      "[nltk_data] Downloading package punkt to\n",
      "[nltk_data]     C:\\Users\\Lian.s\\AppData\\Roaming\\nltk_data...\n",
      "[nltk_data]   Package punkt is already up-to-date!\n",
      "[nltk_data] Downloading package stopwords to\n",
      "[nltk_data]     C:\\Users\\Lian.s\\AppData\\Roaming\\nltk_data...\n",
      "[nltk_data]   Package stopwords is already up-to-date!\n"
     ]
    },
    {
     "name": "stdout",
     "output_type": "stream",
     "text": [
      "Please enter a sentence to be paraphrased: I have to send an email for a job proposal\n",
      "Paraphrased Text: send email job proposal \n"
     ]
    }
   ],
   "source": [
    "#The tool should be able to ask the user for input\n",
    "#the tool should paraphrase the input text from the user\n",
    "\n",
    "import nltk\n",
    "nltk.download('punkt')\n",
    "nltk.download('stopwords')\n",
    "import re\n",
    "from nltk.tokenize import word_tokenize\n",
    "from nltk.corpus import stopwords\n",
    "\n",
    "#2. Create a function to ask the user for input\n",
    "def get_user_input():\n",
    "    user_input = input(\"Please enter a sentence to be paraphrased: \")\n",
    "    return user_input\n",
    "\n",
    "#3. Create a function to preprocess the user input\n",
    "def preprocess_user_input(user_input):\n",
    "    # Convert the user input to lowercase\n",
    "    user_input = user_input.lower()\n",
    "\n",
    "    # Tokenize the user input\n",
    "    user_input_tokens = word_tokenize(user_input)\n",
    "\n",
    "    # Remove the stopwords\n",
    "    stop_words = set(stopwords.words('english'))\n",
    "    user_input_tokens = [token for token in user_input_tokens if token not in stop_words]\n",
    "\n",
    "    # Remove punctuation\n",
    "    user_input_tokens = [token for token in user_input_tokens if token.isalpha()]\n",
    "\n",
    "    return user_input_tokens\n",
    "\n",
    "#4. Create a function to generate the paraphrased text\n",
    "def generate_paraphrased_text(user_input_tokens):\n",
    "    # Initialize the output text\n",
    "    output_text = \"\"\n",
    "\n",
    "    # Iterate through the tokens\n",
    "    for token in user_input_tokens:\n",
    "        # Generate a new token\n",
    "        new_token = token + \" \"\n",
    "\n",
    "        # Append it to the output text\n",
    "        output_text += new_token\n",
    "\n",
    "    # Return the output text\n",
    "    return output_text\n",
    "\n",
    "#5. Create a main function to call all the functions\n",
    "def main():\n",
    "    # Get the user input\n",
    "    user_input = get_user_input()\n",
    "\n",
    "    # Preprocess the user input\n",
    "    user_input_tokens = preprocess_user_input(user_input)\n",
    "\n",
    "    # Generate the paraphrased text\n",
    "    output_text = generate_paraphrased_text(user_input_tokens)\n",
    "\n",
    "    # Print the output text\n",
    "    print(\"Paraphrased Text:\", output_text)\n",
    "\n",
    "# Call the main function\n",
    "if __name__ == \"__main__\":\n",
    "    main()"
   ]
  },
  {
   "cell_type": "code",
   "execution_count": null,
   "id": "d254495a",
   "metadata": {},
   "outputs": [],
   "source": []
  }
 ],
 "metadata": {
  "kernelspec": {
   "display_name": "Python 3 (ipykernel)",
   "language": "python",
   "name": "python3"
  },
  "language_info": {
   "codemirror_mode": {
    "name": "ipython",
    "version": 3
   },
   "file_extension": ".py",
   "mimetype": "text/x-python",
   "name": "python",
   "nbconvert_exporter": "python",
   "pygments_lexer": "ipython3",
   "version": "3.9.7"
  }
 },
 "nbformat": 4,
 "nbformat_minor": 5
}
